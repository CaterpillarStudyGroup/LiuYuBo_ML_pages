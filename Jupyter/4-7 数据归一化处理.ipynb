{
 "cells": [
  {
   "cell_type": "code",
   "execution_count": 1,
   "metadata": {},
   "outputs": [],
   "source": [
    "import numpy as np\n",
    "import matplotlib.pyplot as plt"
   ]
  },
  {
   "cell_type": "markdown",
   "metadata": {},
   "source": [
    "### 最值归一化"
   ]
  },
  {
   "cell_type": "code",
   "execution_count": 4,
   "metadata": {},
   "outputs": [
    {
     "data": {
      "text/plain": [
       "array([93, 61, 20, 38, 42, 96, 39, 23, 47, 99, 37, 92, 22, 39, 70, 14, 64,\n",
       "       61, 52, 72, 40, 20, 11,  6, 86, 49, 57, 58, 66, 25,  9, 46, 60, 43,\n",
       "       93, 16, 27, 26, 29, 36, 55, 55, 63, 62, 26, 70, 15, 81, 20, 11, 37,\n",
       "       15, 43,  9, 22, 32, 59, 99, 36, 49, 40, 75, 21, 90, 78, 68, 92, 47,\n",
       "       33, 55, 27, 70,  8, 82, 59, 74, 81,  3, 19, 26, 24, 58, 80,  2, 11,\n",
       "       41, 40, 92, 15, 18,  9, 83, 54,  1, 55,  7, 44, 24, 29, 26])"
      ]
     },
     "execution_count": 4,
     "metadata": {},
     "output_type": "execute_result"
    }
   ],
   "source": [
    "x = np.random.randint(0, 100, size = 100)\n",
    "x"
   ]
  },
  {
   "cell_type": "code",
   "execution_count": 3,
   "metadata": {},
   "outputs": [
    {
     "data": {
      "text/plain": [
       "array([0.08163265, 0.89795918, 0.05102041, 0.09183673, 0.39795918,\n",
       "       0.89795918, 0.7244898 , 0.51020408, 0.09183673, 0.37755102,\n",
       "       0.12244898, 0.07142857, 0.37755102, 0.31632653, 0.46938776,\n",
       "       0.63265306, 0.52040816, 0.05102041, 0.46938776, 0.7755102 ,\n",
       "       0.53061224, 0.63265306, 0.36734694, 0.33673469, 0.21428571,\n",
       "       0.93877551, 0.57142857, 0.12244898, 0.98979592, 0.85714286,\n",
       "       0.40816327, 0.5       , 0.75510204, 0.18367347, 0.35714286,\n",
       "       0.56122449, 0.60204082, 0.73469388, 0.13265306, 0.31632653,\n",
       "       0.78571429, 0.7755102 , 0.16326531, 0.25510204, 0.82653061,\n",
       "       0.86734694, 0.51020408, 0.7755102 , 0.78571429, 0.05102041,\n",
       "       0.8877551 , 0.85714286, 0.01020408, 1.        , 0.6122449 ,\n",
       "       0.05102041, 0.33673469, 0.78571429, 0.63265306, 0.98979592,\n",
       "       0.        , 0.92857143, 0.29591837, 0.30612245, 0.68367347,\n",
       "       0.31632653, 0.41836735, 0.58163265, 0.33673469, 0.92857143,\n",
       "       0.29591837, 0.08163265, 0.93877551, 0.54081633, 0.36734694,\n",
       "       0.42857143, 0.84693878, 0.69387755, 0.02040816, 0.43877551,\n",
       "       0.79591837, 0.92857143, 0.08163265, 0.82653061, 0.35714286,\n",
       "       0.92857143, 0.07142857, 0.7755102 , 0.14285714, 0.08163265,\n",
       "       0.2755102 , 0.37755102, 0.48979592, 0.7244898 , 0.2755102 ,\n",
       "       0.37755102, 0.70408163, 0.51020408, 0.81632653, 0.60204082])"
      ]
     },
     "execution_count": 3,
     "metadata": {},
     "output_type": "execute_result"
    }
   ],
   "source": [
    "(x - np.min(x)) / (np.max(x) - np.min(x))"
   ]
  },
  {
   "cell_type": "code",
   "execution_count": 5,
   "metadata": {},
   "outputs": [
    {
     "data": {
      "text/plain": [
       "array([[95, 13],\n",
       "       [40, 93],\n",
       "       [92, 37],\n",
       "       [45, 68],\n",
       "       [62, 91],\n",
       "       [80, 74],\n",
       "       [19, 44],\n",
       "       [58, 38],\n",
       "       [71, 26],\n",
       "       [85,  9],\n",
       "       [23, 22],\n",
       "       [11,  9],\n",
       "       [32, 36],\n",
       "       [45, 99],\n",
       "       [83, 53],\n",
       "       [93,  2],\n",
       "       [19, 52],\n",
       "       [38, 21],\n",
       "       [ 9, 10],\n",
       "       [78, 78],\n",
       "       [60, 64],\n",
       "       [24, 57],\n",
       "       [ 6, 46],\n",
       "       [29, 10],\n",
       "       [89, 51],\n",
       "       [42,  5],\n",
       "       [ 9, 68],\n",
       "       [86, 66],\n",
       "       [64, 79],\n",
       "       [16, 35],\n",
       "       [34, 22],\n",
       "       [15, 51],\n",
       "       [53, 67],\n",
       "       [80, 20],\n",
       "       [11, 38],\n",
       "       [ 3, 37],\n",
       "       [18, 92],\n",
       "       [77, 13],\n",
       "       [45, 98],\n",
       "       [44, 88],\n",
       "       [ 7, 50],\n",
       "       [43, 82],\n",
       "       [50, 72],\n",
       "       [99, 93],\n",
       "       [24, 73],\n",
       "       [93, 19],\n",
       "       [84, 45],\n",
       "       [82, 64],\n",
       "       [99, 96],\n",
       "       [24, 45]])"
      ]
     },
     "execution_count": 5,
     "metadata": {},
     "output_type": "execute_result"
    }
   ],
   "source": [
    "X = np.random.randint(0, 100, (50, 2))\n",
    "X"
   ]
  },
  {
   "cell_type": "code",
   "execution_count": 6,
   "metadata": {},
   "outputs": [],
   "source": [
    "X = np.array(X, dtype = float)"
   ]
  },
  {
   "cell_type": "code",
   "execution_count": 8,
   "metadata": {},
   "outputs": [],
   "source": [
    "X[:, 0] = (X[:,0] - np.min(X[:,0])) / (np.max(X[:,0])-np.min(X[:,0]))\n",
    "X[:, 1] = (X[:,1] - np.min(X[:,1])) / (np.max(X[:,1])-np.min(X[:,1]))"
   ]
  },
  {
   "cell_type": "code",
   "execution_count": 9,
   "metadata": {},
   "outputs": [
    {
     "data": {
      "text/plain": [
       "array([[0.95833333, 0.11340206],\n",
       "       [0.38541667, 0.93814433],\n",
       "       [0.92708333, 0.36082474],\n",
       "       [0.4375    , 0.68041237],\n",
       "       [0.61458333, 0.91752577],\n",
       "       [0.80208333, 0.74226804],\n",
       "       [0.16666667, 0.43298969],\n",
       "       [0.57291667, 0.37113402],\n",
       "       [0.70833333, 0.24742268],\n",
       "       [0.85416667, 0.07216495],\n",
       "       [0.20833333, 0.20618557],\n",
       "       [0.08333333, 0.07216495],\n",
       "       [0.30208333, 0.35051546],\n",
       "       [0.4375    , 1.        ],\n",
       "       [0.83333333, 0.5257732 ],\n",
       "       [0.9375    , 0.        ],\n",
       "       [0.16666667, 0.51546392],\n",
       "       [0.36458333, 0.19587629],\n",
       "       [0.0625    , 0.08247423],\n",
       "       [0.78125   , 0.78350515],\n",
       "       [0.59375   , 0.63917526],\n",
       "       [0.21875   , 0.56701031],\n",
       "       [0.03125   , 0.45360825],\n",
       "       [0.27083333, 0.08247423],\n",
       "       [0.89583333, 0.50515464],\n",
       "       [0.40625   , 0.03092784],\n",
       "       [0.0625    , 0.68041237],\n",
       "       [0.86458333, 0.65979381],\n",
       "       [0.63541667, 0.79381443],\n",
       "       [0.13541667, 0.34020619],\n",
       "       [0.32291667, 0.20618557],\n",
       "       [0.125     , 0.50515464],\n",
       "       [0.52083333, 0.67010309],\n",
       "       [0.80208333, 0.18556701],\n",
       "       [0.08333333, 0.37113402],\n",
       "       [0.        , 0.36082474],\n",
       "       [0.15625   , 0.92783505],\n",
       "       [0.77083333, 0.11340206],\n",
       "       [0.4375    , 0.98969072],\n",
       "       [0.42708333, 0.88659794],\n",
       "       [0.04166667, 0.49484536],\n",
       "       [0.41666667, 0.82474227],\n",
       "       [0.48958333, 0.72164948],\n",
       "       [1.        , 0.93814433],\n",
       "       [0.21875   , 0.73195876],\n",
       "       [0.9375    , 0.17525773],\n",
       "       [0.84375   , 0.44329897],\n",
       "       [0.82291667, 0.63917526],\n",
       "       [1.        , 0.96907216],\n",
       "       [0.21875   , 0.44329897]])"
      ]
     },
     "execution_count": 9,
     "metadata": {},
     "output_type": "execute_result"
    }
   ],
   "source": [
    "X"
   ]
  },
  {
   "cell_type": "code",
   "execution_count": 11,
   "metadata": {},
   "outputs": [
    {
     "data": {
      "image/png": "[encoded data removed]",
      "text/plain": [
       "<Figure size 432x288 with 1 Axes>"
      ]
     },
     "metadata": {
      "needs_background": "light"
     },
     "output_type": "display_data"
    }
   ],
   "source": [
    "plt.scatter(X[:,0], X[:,1])\n",
    "plt.show()"
   ]
  },
  {
   "cell_type": "markdown",
   "metadata": {},
   "source": [
    "### 均值方归一化 standardization"
   ]
  },
  {
   "cell_type": "code",
   "execution_count": 14,
   "metadata": {},
   "outputs": [],
   "source": [
    "X2 = np.random.randint(0, 100, (50, 2))\n",
    "X2 = np.array(X, dtype = float)\n",
    "\n",
    "X2[:,0] = (X2[:,0] - np.mean(X2[:,0])) / np.std(X2[:,0])\n",
    "X2[:,1] = (X2[:,1] - np.mean(X2[:,1])) / np.std(X2[:,1])"
   ]
  },
  {
   "cell_type": "code",
   "execution_count": 15,
   "metadata": {},
   "outputs": [
    {
     "data": {
      "image/png": "[encoded data removed]",
      "text/plain": [
       "<Figure size 432x288 with 1 Axes>"
      ]
     },
     "metadata": {
      "needs_background": "light"
     },
     "output_type": "display_data"
    }
   ],
   "source": [
    "plt.scatter(X2[:,0], X2[:,1])\n",
    "plt.show()"
   ]
  },
  {
   "cell_type": "code",
   "execution_count": 16,
   "metadata": {
    "scrolled": true
   },
   "outputs": [
    {
     "data": {
      "text/plain": [
       "7.771561172376095e-17"
      ]
     },
     "execution_count": 16,
     "metadata": {},
     "output_type": "execute_result"
    }
   ],
   "source": [
    "np.mean(X2[:,0])"
   ]
  },
  {
   "cell_type": "code",
   "execution_count": 17,
   "metadata": {},
   "outputs": [
    {
     "data": {
      "text/plain": [
       "1.0"
      ]
     },
     "execution_count": 17,
     "metadata": {},
     "output_type": "execute_result"
    }
   ],
   "source": [
    "np.std(X2[:,0])"
   ]
  },
  {
   "cell_type": "code",
   "execution_count": null,
   "metadata": {},
   "outputs": [],
   "source": []
  }
 ],
 "metadata": {
  "kernelspec": {
   "display_name": "Python 3",
   "language": "python",
   "name": "python3"
  },
  "language_info": {
   "codemirror_mode": {
    "name": "ipython",
    "version": 3
   },
   "file_extension": ".py",
   "mimetype": "text/x-python",
   "name": "python",
   "nbconvert_exporter": "python",
   "pygments_lexer": "ipython3",
   "version": "3.7.3"
  }
 },
 "nbformat": 4,
 "nbformat_minor": 2
}
