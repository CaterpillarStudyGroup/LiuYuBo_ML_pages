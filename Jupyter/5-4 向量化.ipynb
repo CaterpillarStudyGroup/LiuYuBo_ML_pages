{
 "cells": [
  {
   "cell_type": "code",
   "execution_count": 11,
   "metadata": {},
   "outputs": [],
   "source": [
    "import numpy as np\n",
    "\n",
    "class SimpleLinearRegression2:\n",
    "    def __init__(self):\n",
    "        \"\"\"初始化Single Linear Regression模型\"\"\"\n",
    "        self.a_ = None\n",
    "        self.b_ = None\n",
    "        \n",
    "    def fit(self, x_train, y_train):\n",
    "        \"\"\"根据训练数据集X_train, y_train训练Single Linear Regression模型\"\"\"\n",
    "        assert x_train.ndim == 1, \"Simple Linear Regressor can only solve single feature training data\"\n",
    "        assert len(x_train) == len(y_train), \"the size of x_train must be equal to the size of y_train\"\n",
    "        \n",
    "        x_mean = np.mean(x_train)\n",
    "        y_mean = np.mean(y_train)\n",
    "    \n",
    "        num = (x_train - x_mean).dot(y_train - y_mean)\n",
    "        d = (x_train - x_mean).dot(x_train - x_mean)\n",
    "\n",
    "        self.a_ = num / d\n",
    "        self.b_ = y_mean - self.a_ * x_mean\n",
    "        \n",
    "    def predict(self, x_predict):\n",
    "        \"\"\"给定待测数据集X_predict，返回表示x_predict的结果向量\"\"\"\n",
    "        assert x_predict.ndim == 1, \"Simple Linear Regressor can only solve single feature training data\"\n",
    "        assert self.a_ is not None and self.b_ is not None, \"must fit before predict\"\n",
    "        return [self._predict(x) for x in x_predict]\n",
    "    \n",
    "    def _predict(self, x_single):\n",
    "        \"\"\"给定单个待预测数据s_single，返回x_single的预测结果\"\"\"\n",
    "        return self.a_ * x_single + self.b_\n",
    "    \n",
    "    def __repr__(self):\n",
    "        return \"SimpleLinearRegression2()\""
   ]
  },
  {
   "cell_type": "code",
   "execution_count": 12,
   "metadata": {},
   "outputs": [
    {
     "data": {
      "image/png": "[encoded data removed]",
      "text/plain": [
       "<Figure size 432x288 with 1 Axes>"
      ]
     },
     "metadata": {
      "needs_background": "light"
     },
     "output_type": "display_data"
    }
   ],
   "source": [
    "import numpy as np\n",
    "import matplotlib.pyplot as plt\n",
    "\n",
    "x = np.array([1., 2., 3., 4., 5.])\n",
    "y = np.array([1., 3., 2., 3., 5.])\n",
    "\n",
    "reg2 = SimpleLinearRegression2()\n",
    "reg2.fit(x, y)\n",
    "\n",
    "y_hat2 = reg2.predict(x)\n",
    "\n",
    "plt.scatter(x, y)\n",
    "plt.plot(x, y_hat2, color='r')\n",
    "plt.axis([0, 6, 0, 6])\n",
    "plt.show()"
   ]
  },
  {
   "cell_type": "markdown",
   "metadata": {},
   "source": [
    "### 向量化实现的性能测试"
   ]
  },
  {
   "cell_type": "code",
   "execution_count": 13,
   "metadata": {},
   "outputs": [],
   "source": [
    "import numpy as np\n",
    "\n",
    "class SimpleLinearRegression1:\n",
    "    def __init__(self):\n",
    "        \"\"\"初始化Single Linear Regression模型\"\"\"\n",
    "        self.a_ = None\n",
    "        self.b_ = None\n",
    "        \n",
    "    def fit(self, x_train, y_train):\n",
    "        \"\"\"根据训练数据集X_train, y_train训练Single Linear Regression模型\"\"\"\n",
    "        assert x_train.ndim == 1, \"Simple Linear Regressor can only solve single feature training data\"\n",
    "        assert len(x_train) == len(y_train), \"the size of x_train must be equal to the size of y_train\"\n",
    "        \n",
    "        x_mean = np.mean(x_train)\n",
    "        y_mean = np.mean(y_train)\n",
    "\n",
    "        num = 0.0\n",
    "        d = 0.0\n",
    "        for x_i, y_i in zip(x_train, y_train):\n",
    "            num += (x_i - x_mean) * (y_i - y_mean)\n",
    "            d += (x_i - x_mean) ** 2\n",
    "\n",
    "        self.a_ = num / d\n",
    "        self.b_ = y_mean - self.a_ * x_mean\n",
    "        \n",
    "    def predict(self, x_predict):\n",
    "        \"\"\"给定待测数据集X_predict，返回表示x_predict的结果向量\"\"\"\n",
    "        assert x_predict.ndim == 1, \"Simple Linear Regressor can only solve single feature training data\"\n",
    "        assert self.a_ is not None and self.b_ is not None, \"must fit before predict\"\n",
    "        return [self._predict(x) for x in x_predict]\n",
    "    \n",
    "    def _predict(self, x_single):\n",
    "        \"\"\"给定单个待预测数据s_single，返回x_single的预测结果\"\"\"\n",
    "        return self.a_ * x_single + self.b_\n",
    "    \n",
    "    def __repr__(self):\n",
    "        return \"SimpleLinearRegression1()\""
   ]
  },
  {
   "cell_type": "code",
   "execution_count": 14,
   "metadata": {},
   "outputs": [],
   "source": [
    "reg1 = SimpleLinearRegression1()"
   ]
  },
  {
   "cell_type": "code",
   "execution_count": 15,
   "metadata": {},
   "outputs": [],
   "source": [
    "m = 1000000\n",
    "big_x = np.random.random(size = m)\n",
    "big_y = big_x * 3.0 + 2.0 + np.random.normal(size = m)"
   ]
  },
  {
   "cell_type": "code",
   "execution_count": 16,
   "metadata": {},
   "outputs": [
    {
     "name": "stdout",
     "output_type": "stream",
     "text": [
      "1.15 s ± 12.7 ms per loop (mean ± std. dev. of 7 runs, 1 loop each)\n",
      "25.2 ms ± 2.08 ms per loop (mean ± std. dev. of 7 runs, 10 loops each)\n"
     ]
    }
   ],
   "source": [
    "%timeit reg1.fit(big_x, big_y)\n",
    "%timeit reg2.fit(big_x, big_y)"
   ]
  },
  {
   "cell_type": "code",
   "execution_count": null,
   "metadata": {},
   "outputs": [],
   "source": []
  }
 ],
 "metadata": {
  "kernelspec": {
   "display_name": "Python 3",
   "language": "python",
   "name": "python3"
  },
  "language_info": {
   "codemirror_mode": {
    "name": "ipython",
    "version": 3
   },
   "file_extension": ".py",
   "mimetype": "text/x-python",
   "name": "python",
   "nbconvert_exporter": "python",
   "pygments_lexer": "ipython3",
   "version": "3.7.3"
  }
 },
 "nbformat": 4,
 "nbformat_minor": 2
}
